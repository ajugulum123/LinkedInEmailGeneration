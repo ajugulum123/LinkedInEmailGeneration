{
 "cells": [
  {
   "cell_type": "code",
   "outputs": [],
   "source": [
    "import pandas as pd"
   ],
   "metadata": {
    "collapsed": false,
    "ExecuteTime": {
     "end_time": "2024-11-28T00:21:39.327689Z",
     "start_time": "2024-11-28T00:20:55.179304Z"
    }
   },
   "id": "8ab4ab02c8d0f9d8",
   "execution_count": 1
  },
  {
   "cell_type": "code",
   "outputs": [
    {
     "ename": "ModuleNotFoundError",
     "evalue": "No module named 'transformers'",
     "output_type": "error",
     "traceback": [
      "\u001B[0;31m---------------------------------------------------------------------------\u001B[0m",
      "\u001B[0;31mModuleNotFoundError\u001B[0m                       Traceback (most recent call last)",
      "Cell \u001B[0;32mIn[19], line 8\u001B[0m\n\u001B[1;32m      6\u001B[0m \u001B[38;5;28;01mfrom\u001B[39;00m \u001B[38;5;21;01msklearn\u001B[39;00m\u001B[38;5;21;01m.\u001B[39;00m\u001B[38;5;21;01mdecomposition\u001B[39;00m \u001B[38;5;28;01mimport\u001B[39;00m LatentDirichletAllocation\n\u001B[1;32m      7\u001B[0m \u001B[38;5;28;01mfrom\u001B[39;00m \u001B[38;5;21;01msklearn\u001B[39;00m\u001B[38;5;21;01m.\u001B[39;00m\u001B[38;5;21;01mfeature_extraction\u001B[39;00m\u001B[38;5;21;01m.\u001B[39;00m\u001B[38;5;21;01mtext\u001B[39;00m \u001B[38;5;28;01mimport\u001B[39;00m CountVectorizer\n\u001B[0;32m----> 8\u001B[0m \u001B[38;5;28;01mfrom\u001B[39;00m \u001B[38;5;21;01mtransformers\u001B[39;00m \u001B[38;5;28;01mimport\u001B[39;00m GPT2LMHeadModel, GPT2Tokenizer\n\u001B[1;32m      9\u001B[0m \u001B[38;5;28;01mimport\u001B[39;00m \u001B[38;5;21;01mnltk\u001B[39;00m\n\u001B[1;32m     10\u001B[0m \u001B[38;5;28;01mimport\u001B[39;00m \u001B[38;5;21;01mnumpy\u001B[39;00m \u001B[38;5;28;01mas\u001B[39;00m \u001B[38;5;21;01mnp\u001B[39;00m\n",
      "\u001B[0;31mModuleNotFoundError\u001B[0m: No module named 'transformers'"
     ]
    }
   ],
   "source": [
    "import pandas as pd\n",
    "import re\n",
    "from nltk.tokenize import word_tokenize\n",
    "from nltk.corpus import stopwords\n",
    "from nltk.stem import WordNetLemmatizer\n",
    "from sklearn.decomposition import LatentDirichletAllocation\n",
    "from sklearn.feature_extraction.text import CountVectorizer\n",
    "from transformers import GPT2LMHeadModel, GPT2Tokenizer\n",
    "import nltk\n",
    "import numpy as np\n",
    "\n",
    "# Download necessary NLTK data\n",
    "nltk.download('stopwords')\n",
    "nltk.download('wordnet')\n",
    "nltk.download('punkt')\n",
    "\n",
    "# Load the email dataset\n",
    "emails = pd.read_csv('emails.csv')  # Ensure the CSV has a column 'EmailContent'\n",
    "\n",
    "# Preprocessing tools\n",
    "lemmatizer = WordNetLemmatizer()\n",
    "stop_words = set(stopwords.words('english'))\n",
    "\n",
    "def preprocess_text(text):\n",
    "    text = text.lower()\n",
    "    text = re.sub(r'[^a-z\\s]', '', text)\n",
    "    tokens = word_tokenize(text)\n",
    "    tokens = [lemmatizer.lemmatize(word) for word in tokens if word not in stop_words]\n",
    "    return ' '.join(tokens)\n",
    "\n",
    "# Preprocess emails\n",
    "emails['Processed'] = emails['EmailContent'].apply(preprocess_text)\n",
    "\n",
    "# Vectorize using CountVectorizer\n",
    "vectorizer = CountVectorizer(max_df=0.9, min_df=2, stop_words='english')\n",
    "email_vectors = vectorizer.fit_transform(emails['Processed'])\n",
    "\n",
    "# Fit LDA model\n",
    "lda_model = LatentDirichletAllocation(n_components=5, random_state=42)\n",
    "lda_model.fit(email_vectors)\n",
    "\n",
    "# Function to get the most relevant topic for an email\n",
    "feature_names = vectorizer.get_feature_names_out()\n",
    "\n",
    "def get_topic_for_email(email, lda_model, vectorizer):\n",
    "    email_vector = vectorizer.transform([email])\n",
    "    topic_distribution = lda_model.transform(email_vector)\n",
    "    topic_idx = np.argmax(topic_distribution)\n",
    "    topic_words = [feature_names[i] for i in lda_model.components_[topic_idx].argsort()[:-10 - 1:-1]]\n",
    "    return topic_idx, topic_words\n",
    "\n",
    "# Load GPT-2 model and tokenizer\n",
    "model_name = \"gpt2\"\n",
    "tokenizer = GPT2Tokenizer.from_pretrained(model_name)\n",
    "model = GPT2LMHeadModel.from_pretrained(model_name)\n",
    "\n",
    "def generate_email_with_gpt2(prompt, max_length=200):\n",
    "    inputs = tokenizer.encode(prompt, return_tensors=\"pt\")\n",
    "    outputs = model.generate(inputs, max_length=max_length, num_return_sequences=1, \n",
    "                             pad_token_id=tokenizer.eos_token_id)\n",
    "    return tokenizer.decode(outputs[0], skip_special_tokens=True)\n",
    "\n",
    "# Integrated function to generate email\n",
    "def generate_email(email_text, company_name, job_title):\n",
    "    # Get topic from LDA\n",
    "    topic_idx, topic_words = get_topic_for_email(email_text, lda_model, vectorizer)\n",
    "    topic_summary = \", \".join(topic_words[:5])  # Use top 5 words for brevity\n",
    "\n",
    "    # Define prompt for GPT-2\n",
    "    prompt = f\"\"\"\n",
    "    Write a professional networking email:\n",
    "\n",
    "    Subject: Connecting with {company_name}\n",
    "\n",
    "    Hi [Recipient Name],\n",
    "\n",
    "    I am reaching out to express my admiration for your role as a {job_title} at {company_name}. \n",
    "    It's fascinating how {company_name} is driving innovation in areas like {topic_summary}.\n",
    "\n",
    "    I'd love to hear more about your experience and insights. Please let me know if you’d be open to a quick chat.\n",
    "\n",
    "    Best regards,  \n",
    "    [Your Name]  \n",
    "    [Your Contact Information]\n",
    "    \"\"\"\n",
    "\n",
    "    # Generate email using GPT-2\n",
    "    generated_email = generate_email_with_gpt2(prompt, max_length=300)\n",
    "    return generated_email\n",
    "\n",
    "# Example usage with a sample email from the CSV\n",
    "sample_email = emails['Processed'].iloc[0]  # Get the first preprocessed email\n",
    "company_name = \"ABC Corp\"\n",
    "job_title = \"Investment Analyst\"\n",
    "\n",
    "generated_email = generate_email(sample_email, company_name, job_title)\n",
    "print(generated_email)"
   ],
   "metadata": {
    "collapsed": false,
    "ExecuteTime": {
     "end_time": "2024-11-28T20:55:05.721277Z",
     "start_time": "2024-11-28T20:55:05.665473Z"
    }
   },
   "id": "96e943274a4984a0",
   "execution_count": 19
  },
  {
   "cell_type": "code",
   "outputs": [],
   "source": [],
   "metadata": {
    "collapsed": false,
    "ExecuteTime": {
     "end_time": "2024-11-28T00:25:22.969066Z",
     "start_time": "2024-11-28T00:25:22.962868Z"
    }
   },
   "id": "acd6539244a8799d",
   "execution_count": 4
  },
  {
   "cell_type": "code",
   "outputs": [],
   "source": [],
   "metadata": {
    "collapsed": false
   },
   "id": "b89ad0f26adb10bf"
  }
 ],
 "metadata": {
  "kernelspec": {
   "name": "myenv",
   "language": "python",
   "display_name": "Python (myenv)"
  },
  "language_info": {
   "codemirror_mode": {
    "name": "ipython",
    "version": 2
   },
   "file_extension": ".py",
   "mimetype": "text/x-python",
   "name": "python",
   "nbconvert_exporter": "python",
   "pygments_lexer": "ipython2",
   "version": "2.7.6"
  }
 },
 "nbformat": 4,
 "nbformat_minor": 5
}
