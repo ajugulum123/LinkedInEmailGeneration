{
 "cells": [
  {
   "cell_type": "code",
   "outputs": [
    {
     "name": "stdout",
     "output_type": "stream",
     "text": [
      "Intel MKL WARNING: Support of Intel(R) Streaming SIMD Extensions 4.2 (Intel(R) SSE4.2) enabled only processors has been deprecated. Intel oneAPI Math Kernel Library 2025.0 will require Intel(R) Advanced Vector Extensions (Intel(R) AVX) instructions.\n",
      "Intel MKL WARNING: Support of Intel(R) Streaming SIMD Extensions 4.2 (Intel(R) SSE4.2) enabled only processors has been deprecated. Intel oneAPI Math Kernel Library 2025.0 will require Intel(R) Advanced Vector Extensions (Intel(R) AVX) instructions.\n"
     ]
    }
   ],
   "source": [
    "from linkedin_api import Linkedin\n",
    "import pandas as pd\n",
    "# ask user for their LinkedIn Credentials\n",
    "user_email = input(\"Enter your LinkedIn email address: \")\n",
    "user_password = input(\"Enter your LinkedIn password: \")\n",
    "def fetch_linkedin_info():\n",
    "    api = Linkedin(user_email, user_password)\n",
    "    #df_contacts = pd.read_csv('contacts.csv')\n",
    "\n",
    "    # ask user if they want to see info for a certain name in the CSV they are using\n",
    "    desired_connection = input(\"Enter the name of who you want to query information for (firstname-lastname): \")\n",
    "\n",
    "    profile_desired = api.get_profile(desired_connection)\n",
    "\n",
    "    return profile_desired"
   ],
   "metadata": {
    "collapsed": false,
    "ExecuteTime": {
     "end_time": "2024-08-30T19:49:27.837676Z",
     "start_time": "2024-08-30T19:49:12.403374Z"
    }
   },
   "id": "5b05f78d11899568",
   "execution_count": 4
  },
  {
   "cell_type": "code",
   "outputs": [
    {
     "data": {
      "text/plain": "{'summary': 'Interested in solving large-scale business problems, architecting robust machine learning models, and making critical decisions driven by data. Highly skilled in Python and SQL and using them to build end-to-end robust and scalable solutions while leveraging machine learning and deep learning libraries like Scikit-learn, Statsmodels, Prophet, PyTorch, Tensorflow, etc. Possess experience in various data science projects, combining data engineering, statistical, machine learning, and visualization knowledge with advanced coding skills.',\n 'industryName': 'Computer Software',\n 'lastName': 'Praharaj',\n 'locationName': 'United States',\n 'student': False,\n 'geoCountryName': 'United States',\n 'geoCountryUrn': 'urn:li:fs_geo:103644278',\n 'geoLocationBackfilled': False,\n 'elt': False,\n 'industryUrn': 'urn:li:fs_industry:4',\n 'firstName': 'Harsh',\n 'entityUrn': 'urn:li:fs_profile:ACoAAB4ySUYByTjvSejnwVuRS0C0Lc0WNQ6_mwY',\n 'geoLocation': {'geoUrn': 'urn:li:fs_geo:90000070'},\n 'geoLocationName': 'New York City Metropolitan Area',\n 'location': {'basicLocation': {'countryCode': 'us'}},\n 'headline': 'Data Scientist at CVS Health',\n 'displayPictureUrl': 'https://media.licdn.com/dms/image/v2/D5603AQFS2B0W8JlFKQ/profile-displayphoto-shrink_',\n 'img_100_100': '100_100/profile-displayphoto-shrink_100_100/0/1685126136106?e=1730937600&v=beta&t=qfqanSHiy7ZiO5Q_CgYe4qwsCd_qgsj9Vp4FUfTiDPc',\n 'img_200_200': '200_200/profile-displayphoto-shrink_200_200/0/1685126136106?e=1730937600&v=beta&t=6dF66TFl6_N619QlfMAsgNtrCpdgUYxjX9dM5UgO-iQ',\n 'img_400_400': '400_400/profile-displayphoto-shrink_400_400/0/1685126136106?e=1730937600&v=beta&t=aXkKPNFxv7SdjXpGye2RVVTu8otkp9IhECD3vIV3U2w',\n 'img_576_576': '800_800/profile-displayphoto-shrink_800_800/0/1685126136106?e=1730937600&v=beta&t=ySe-d-xh4KOiBPAm3ScWXIEwhYziHCiyrM4WT20MA5w',\n 'profile_id': 'ACoAAB4ySUYByTjvSejnwVuRS0C0Lc0WNQ6_mwY',\n 'profile_urn': 'urn:li:fs_miniProfile:ACoAAB4ySUYByTjvSejnwVuRS0C0Lc0WNQ6_mwY',\n 'member_urn': 'urn:li:member:506612038',\n 'public_id': 'harshpraharaj',\n 'experience': [{'locationName': 'New York City Metropolitan Area',\n   'entityUrn': 'urn:li:fs_position:(ACoAAB4ySUYByTjvSejnwVuRS0C0Lc0WNQ6_mwY,2288741266)',\n   'geoLocationName': 'New York City Metropolitan Area',\n   'geoUrn': 'urn:li:fs_geo:90000070',\n   'companyName': 'CVS Health',\n   'timePeriod': {'startDate': {'month': 11, 'year': 2023}},\n   'company': {'employeeCountRange': {'start': 10001},\n    'industries': ['Hospital & Health Care']},\n   'title': 'Data Scientist',\n   'region': 'urn:li:fs_region:(us,70)',\n   'companyUrn': 'urn:li:fs_miniCompany:4680',\n   'companyLogoUrl': 'https://media.licdn.com/dms/image/v2/C4E0BAQEhOw_KVli-CQ/company-logo_'},\n  {'locationName': 'San Francisco Bay Area',\n   'entityUrn': 'urn:li:fs_position:(ACoAAB4ySUYByTjvSejnwVuRS0C0Lc0WNQ6_mwY,2066298535)',\n   'geoLocationName': 'San Francisco Bay Area',\n   'geoUrn': 'urn:li:fs_geo:90000084',\n   'companyName': 'SubWire',\n   'timePeriod': {'endDate': {'month': 7, 'year': 2023},\n    'startDate': {'month': 9, 'year': 2022}},\n   'description': 'Led the data engineering and data science efforts to drive user engagement for the SubWire app.\\n\\n• Designed an ETL pipeline using AWS Lambda functions to retrieve and store data from 100ms into Redis, and configured event triggers to ensure real-time updates in the database, thereby reducing manual labor by roughly 70%.\\n• Developed an unsupervised model using K-means clustering to segregate “super users” of a popup, enabling targeted marketing efforts, leading to a 13% increase in user retention that resulted in 3% increase in revenue.\\n• Leveraged AWS Sagemaker and Lambda to develop a script that automatically generates reports (by defining a lifecycle configuration) after every popup, on key metrics such as user engagement, conversion rates, and revenue generated.',\n   'company': {'employeeCountRange': {'start': 2, 'end': 10},\n    'industries': ['Media Production']},\n   'title': 'Data Scientist',\n   'region': 'urn:li:fs_region:(us,84)',\n   'companyUrn': 'urn:li:fs_miniCompany:71400992',\n   'companyLogoUrl': 'https://media.licdn.com/dms/image/v2/C4E0BAQG1X9X1wFnokQ/company-logo_'},\n  {'locationName': 'Boston, Massachusetts, United States',\n   'entityUrn': 'urn:li:fs_position:(ACoAAB4ySUYByTjvSejnwVuRS0C0Lc0WNQ6_mwY,1705338957)',\n   'geoLocationName': 'Boston, Massachusetts, United States',\n   'geoUrn': 'urn:li:fs_geo:102380872',\n   'companyName': 'Quantiphi',\n   'timePeriod': {'endDate': {'month': 7, 'year': 2022},\n    'startDate': {'month': 6, 'year': 2020}},\n   'description': 'Ex Data Scientist at Quantiphi Analytics, where I largely worked on problems in the domain of Retail and CPG for one of the biggest beverage manufacturing companies in the world. (https://quantiphi.com/products/ordersmart#the-ordersmart-advantage)\\n\\n- Designed an end-to-end pipeline to generate sales forecasts for 20,000+ retail stores at the SKU\\nlevel to assist sales representatives visiting the store to place orders more efficiently.\\n- Developed an algorithm to handle order surges during promotions/holiday seasons. Re-engineered the logic that improved predictions for 68% of SKUs.\\n- Built a Power BI dashboard and communicated weekly insights to the stakeholders that helped them make informed decisions.',\n   'company': {'employeeCountRange': {'start': 1001, 'end': 5000},\n    'industries': ['Information Technology and Services']},\n   'title': 'Data Scientist',\n   'region': 'urn:li:fs_region:(us,0)',\n   'companyUrn': 'urn:li:fs_miniCompany:3618960',\n   'companyLogoUrl': 'https://media.licdn.com/dms/image/v2/D560BAQFaMiysqT-J6Q/company-logo_'}],\n 'education': [{'entityUrn': 'urn:li:fs_education:(ACoAAB4ySUYByTjvSejnwVuRS0C0Lc0WNQ6_mwY,824311311)',\n   'school': {'objectUrn': 'urn:li:school:17968',\n    'entityUrn': 'urn:li:fs_miniSchool:17968',\n    'active': True,\n    'schoolName': 'University of San Francisco',\n    'trackingId': 'EgCA/qPdSvimLl2VRuyWfQ==',\n    'logoUrl': 'https://media.licdn.com/dms/image/v2/D4D0BAQFATMFw7dFqGQ/company-logo_'},\n   'grade': '3.93/4',\n   'timePeriod': {'endDate': {'month': 7, 'year': 2023},\n    'startDate': {'month': 7, 'year': 2022}},\n   'description': 'Courses:\\n- Linear Regression\\n- EDA and Visualization\\n- Data Acquisition\\n- Relational Databases\\n- Linear Algebra\\n- Intro to Machine Learning\\n- Distributed Computing',\n   'degreeName': 'Master of Science - MS',\n   'schoolName': 'University of San Francisco',\n   'fieldOfStudy': 'Data Science',\n   'degreeUrn': 'urn:li:fs_degree:626',\n   'schoolUrn': 'urn:li:fs_miniSchool:17968'},\n  {'entityUrn': 'urn:li:fs_education:(ACoAAB4ySUYByTjvSejnwVuRS0C0Lc0WNQ6_mwY,350172354)',\n   'school': {'objectUrn': 'urn:li:school:20495',\n    'entityUrn': 'urn:li:fs_miniSchool:20495',\n    'active': True,\n    'schoolName': \"SVKM's Narsee Monjee Institute of Management Studies (NMIMS)\",\n    'trackingId': 'fCV4oUMvRbCV6S3CrrSvqA==',\n    'logoUrl': 'https://media.licdn.com/dms/image/v2/C510BAQHW16ttC_rbmQ/company-logo_'},\n   'timePeriod': {'endDate': {'year': 2020}, 'startDate': {'year': 2016}},\n   'description': 'Courses:\\n- Data Structures and Algorithms\\n- Discrete Mathematics\\n- Operations Research\\n- Software Engineering\\n- Predictive Modeling\\n- Data Warehouse and Mining',\n   'fieldOfStudyUrn': 'urn:li:fs_fieldOfStudy:100189',\n   'degreeName': 'BTech - Bachelor of Technology',\n   'schoolName': 'Narsee Monjee Institute of Management Studies',\n   'fieldOfStudy': 'Computer Science',\n   'degreeUrn': 'urn:li:fs_degree:250',\n   'schoolUrn': 'urn:li:fs_miniSchool:20495'}],\n 'languages': [{'name': 'English', 'proficiency': 'FULL_PROFESSIONAL'},\n  {'name': 'Gujarati', 'proficiency': 'NATIVE_OR_BILINGUAL'},\n  {'name': 'Hindi', 'proficiency': 'NATIVE_OR_BILINGUAL'},\n  {'name': 'Marathi', 'proficiency': 'ELEMENTARY'},\n  {'name': 'Oriya', 'proficiency': 'ELEMENTARY'}],\n 'publications': [{'date': {'month': 3, 'year': 2019, 'day': 29},\n   'name': 'A study of Prediction models for football player valuations by quantifying statistical and economic attributes for the global transfer market.',\n   'publisher': 'IEEE',\n   'description': 'The global transfer market in the field of football has long been devoid of technology. Over the last two decades, the economic dynamics have completely changed, and the amount of money that has been pumped has increased exponentially. Valuations for any physical entity with a well-defined set of parameters is a challenge in itself and depend on numerous other things. Doing the same for an individual with varying parameters, based on the source of data, is even more challenging. With this paper, we attempt to find the most optimum way of fetching data of football players and applying the right model to it so as to extract meaningful information, thus reducing the gap between the estimated prices and the final price. We do so by crowdsourcing the data and applying regression techniques along with Opta index. We also try to find the results using Neural Networks and conclude with a comparison between our models.',\n   'url': 'https://ieeexplore.ieee.org/abstract/document/8878843',\n   'authors': [{'member': {'firstName': 'Harsh',\n      'lastName': 'Praharaj',\n      'dashEntityUrn': 'urn:li:fsd_profile:ACoAAB4ySUYByTjvSejnwVuRS0C0Lc0WNQ6_mwY',\n      'occupation': 'Data Scientist at CVS Health',\n      'objectUrn': 'urn:li:member:506612038',\n      'entityUrn': 'urn:li:fs_miniProfile:ACoAAB4ySUYByTjvSejnwVuRS0C0Lc0WNQ6_mwY',\n      'publicIdentifier': 'harshpraharaj',\n      'picture': {'com.linkedin.common.VectorImage': {'artifacts': [{'width': 100,\n          'fileIdentifyingUrlPathSegment': '100_100/profile-displayphoto-shrink_100_100/0/1685126136106?e=1730937600&v=beta&t=qfqanSHiy7ZiO5Q_CgYe4qwsCd_qgsj9Vp4FUfTiDPc',\n          'expiresAt': 1730937600000,\n          'height': 100},\n         {'width': 200,\n          'fileIdentifyingUrlPathSegment': '200_200/profile-displayphoto-shrink_200_200/0/1685126136106?e=1730937600&v=beta&t=6dF66TFl6_N619QlfMAsgNtrCpdgUYxjX9dM5UgO-iQ',\n          'expiresAt': 1730937600000,\n          'height': 200},\n         {'width': 400,\n          'fileIdentifyingUrlPathSegment': '400_400/profile-displayphoto-shrink_400_400/0/1685126136106?e=1730937600&v=beta&t=aXkKPNFxv7SdjXpGye2RVVTu8otkp9IhECD3vIV3U2w',\n          'expiresAt': 1730937600000,\n          'height': 400},\n         {'width': 576,\n          'fileIdentifyingUrlPathSegment': '800_800/profile-displayphoto-shrink_800_800/0/1685126136106?e=1730937600&v=beta&t=ySe-d-xh4KOiBPAm3ScWXIEwhYziHCiyrM4WT20MA5w',\n          'expiresAt': 1730937600000,\n          'height': 576}],\n        'rootUrl': 'https://media.licdn.com/dms/image/v2/D5603AQFS2B0W8JlFKQ/profile-displayphoto-shrink_'}},\n      'trackingId': 'WBaW27O+TNe4c/ilTn7T/Q=='},\n     'profileUrn': 'urn:li:fs_miniProfile:ACoAAB4ySUYByTjvSejnwVuRS0C0Lc0WNQ6_mwY'},\n    {'member': {'firstName': 'Dibyanshu',\n      'lastName': 'Patnaik',\n      'dashEntityUrn': 'urn:li:fsd_profile:ACoAAB-gB_EB1i2kK6-WHvNPP4rwaeZlM_IGwlE',\n      'occupation': 'Looking for Full Time Opportunities in Analytics and AI | Data Engineer | Data Scientist | LLMs | Carnegie Mellon University Graduate',\n      'objectUrn': 'urn:li:member:530581489',\n      'entityUrn': 'urn:li:fs_miniProfile:ACoAAB-gB_EB1i2kK6-WHvNPP4rwaeZlM_IGwlE',\n      'publicIdentifier': 'dibyanshu-patnaik',\n      'picture': {'com.linkedin.common.VectorImage': {'artifacts': [{'width': 400,\n          'fileIdentifyingUrlPathSegment': '400_400/profile-framedphoto-shrink_400_400/0/1715274214690?e=1725836400&v=beta&t=qTfFCm5Uxtdjhj5HWaw9WJIKK84sl0uvtfus6UBn74c',\n          'expiresAt': 1725836400000,\n          'height': 400},\n         {'width': 200,\n          'fileIdentifyingUrlPathSegment': '200_200/profile-framedphoto-shrink_200_200/0/1715274214690?e=1725836400&v=beta&t=JfiBoeeS07U31OzmGh2t-jd_ZBUQ8uy_5VoeqcGHlQY',\n          'expiresAt': 1725836400000,\n          'height': 200},\n         {'width': 800,\n          'fileIdentifyingUrlPathSegment': '800_800/profile-framedphoto-shrink_800_800/0/1715274214690?e=1725836400&v=beta&t=aNKkM4gI23p81rhEEcFBFecgyqIVw9SsdMcau3hjsoo',\n          'expiresAt': 1725836400000,\n          'height': 800},\n         {'width': 100,\n          'fileIdentifyingUrlPathSegment': '100_100/profile-framedphoto-shrink_100_100/0/1715274214690?e=1725836400&v=beta&t=9881exwaS0aj9bStIVUC74FtoQIdJnCxSk7TIHom7PE',\n          'expiresAt': 1725836400000,\n          'height': 100}],\n        'rootUrl': 'https://media.licdn.com/dms/image/v2/D4D35AQEkSZAUvgSGHA/profile-framedphoto-shrink_'}},\n      'trackingId': '0fgWto9STL6Resqxh2hZBw=='},\n     'profileUrn': 'urn:li:fs_miniProfile:ACoAAB-gB_EB1i2kK6-WHvNPP4rwaeZlM_IGwlE'},\n    {'member': {'firstName': 'Kartikeya',\n      'lastName': 'Prakash',\n      'dashEntityUrn': 'urn:li:fsd_profile:ACoAACVBGBABxulzPAMmovM1gs5Hu-ANesSxGaU',\n      'occupation': 'Software Engineer at Agoda',\n      'objectUrn': 'urn:li:member:625022992',\n      'entityUrn': 'urn:li:fs_miniProfile:ACoAACVBGBABxulzPAMmovM1gs5Hu-ANesSxGaU',\n      'publicIdentifier': 'kartikeyaprakash',\n      'picture': {'com.linkedin.common.VectorImage': {'artifacts': [{'width': 100,\n          'fileIdentifyingUrlPathSegment': '100_100/profile-displayphoto-shrink_100_100/0/1653465753145?e=1730937600&v=beta&t=_74jz2kBsJBPXtpqL_dC72ay6CAeZtxLxi2pNferfIU',\n          'expiresAt': 1730937600000,\n          'height': 100},\n         {'width': 200,\n          'fileIdentifyingUrlPathSegment': '200_200/profile-displayphoto-shrink_200_200/0/1653465753145?e=1730937600&v=beta&t=0wCLuYA9Ey_fkXdXHeQarhnzYkX9dVwUocKJ97JqE9E',\n          'expiresAt': 1730937600000,\n          'height': 200},\n         {'width': 400,\n          'fileIdentifyingUrlPathSegment': '400_400/profile-displayphoto-shrink_400_400/0/1653465753145?e=1730937600&v=beta&t=EnCBE1GsUlyI7puvV1Og9jV9pd6EQ9IeRnUjRF-oEO0',\n          'expiresAt': 1730937600000,\n          'height': 400},\n         {'width': 800,\n          'fileIdentifyingUrlPathSegment': '800_800/profile-displayphoto-shrink_800_800/0/1653465753145?e=1730937600&v=beta&t=LqwQ3FrW0DUeMAZO4issj_3FHxPqFqft1m5_Z3szJJc',\n          'expiresAt': 1730937600000,\n          'height': 800}],\n        'rootUrl': 'https://media.licdn.com/dms/image/v2/C4D03AQGr8Eci77ruUw/profile-displayphoto-shrink_'}},\n      'trackingId': 'L0liQMr9QeGJ5iznCDBm/w=='},\n     'profileUrn': 'urn:li:fs_miniProfile:ACoAACVBGBABxulzPAMmovM1gs5Hu-ANesSxGaU'}]}],\n 'certifications': [{'authority': 'Coursera',\n   'name': 'Machine Learning',\n   'timePeriod': {'startDate': {'month': 7, 'year': 2018}},\n   'licenseNumber': 'XEUBEYN2DQDF',\n   'company': {'objectUrn': 'urn:li:company:2453129',\n    'entityUrn': 'urn:li:fs_miniCompany:2453129',\n    'name': 'Coursera',\n    'showcase': False,\n    'active': True,\n    'logo': {'com.linkedin.common.VectorImage': {'artifacts': [{'width': 200,\n        'fileIdentifyingUrlPathSegment': '200_200/company-logo_200_200/0/1630530042036/coursera_logo?e=1733356800&v=beta&t=5lXfcFaWtU-crChR-doKJK3FJvUNEYlmARku2EJ8BzE',\n        'expiresAt': 1733356800000,\n        'height': 200},\n       {'width': 100,\n        'fileIdentifyingUrlPathSegment': '100_100/company-logo_100_100/0/1630530042036/coursera_logo?e=1733356800&v=beta&t=BrtddTxnc1JhbjAbuI1UpjxPW93RMZlJSri5cxc90P8',\n        'expiresAt': 1733356800000,\n        'height': 100},\n       {'width': 400,\n        'fileIdentifyingUrlPathSegment': '400_400/company-logo_400_400/0/1630530042036/coursera_logo?e=1733356800&v=beta&t=1sVfieBTNH6z4VSlAyfnzFg5Oz9TFNAt8H72UFf4Tg0',\n        'expiresAt': 1733356800000,\n        'height': 400}],\n      'rootUrl': 'https://media.licdn.com/dms/image/v2/C4D0BAQGexnfBxeEG-g/company-logo_'}},\n    'universalName': 'coursera',\n    'dashCompanyUrn': 'urn:li:fsd_company:2453129',\n    'trackingId': 'wgfJvKGLQk6Lv6vC8ryW1w=='},\n   'displaySource': 'coursera.org',\n   'companyUrn': 'urn:li:fs_miniCompany:2453129',\n   'url': 'https://www.coursera.org/account/accomplishments/verify/XEUBEYN2DQDF'},\n  {'authority': 'Udemy',\n   'name': 'Hands On Natural Language Processing (NLP) using Python',\n   'timePeriod': {'startDate': {'month': 7, 'year': 2018}},\n   'licenseNumber': 'UC-0LGLGAQG',\n   'company': {'objectUrn': 'urn:li:company:822535',\n    'entityUrn': 'urn:li:fs_miniCompany:822535',\n    'name': 'Udemy',\n    'showcase': False,\n    'active': True,\n    'logo': {'com.linkedin.common.VectorImage': {'artifacts': [{'width': 200,\n        'fileIdentifyingUrlPathSegment': '200_200/company-logo_200_200/0/1723593046388/udemy_logo?e=1733356800&v=beta&t=1_eSRQycJSag4YvdeZ8xBpyYq-_EBsJJ5jvE-cTkid0',\n        'expiresAt': 1733356800000,\n        'height': 200},\n       {'width': 100,\n        'fileIdentifyingUrlPathSegment': '100_100/company-logo_100_100/0/1723593046388/udemy_logo?e=1733356800&v=beta&t=zWTK5SOMsd-LDFbVS1bs0T936VuaJAbzlTlCNQqDJig',\n        'expiresAt': 1733356800000,\n        'height': 100},\n       {'width': 400,\n        'fileIdentifyingUrlPathSegment': '400_400/company-logo_400_400/0/1723593046388/udemy_logo?e=1733356800&v=beta&t=tWBHN2aCkZwkeeYuVc_EOlDh6uZp8ty4XuJVeoaA4BU',\n        'expiresAt': 1733356800000,\n        'height': 400}],\n      'rootUrl': 'https://media.licdn.com/dms/image/v2/D560BAQEf_NHzN2yVQg/company-logo_'}},\n    'universalName': 'udemy',\n    'dashCompanyUrn': 'urn:li:fsd_company:822535',\n    'trackingId': 'NFtE1GB/SNi4JtzmVs48NQ=='},\n   'displaySource': 'udemy.com',\n   'companyUrn': 'urn:li:fs_miniCompany:822535',\n   'url': 'https://www.udemy.com/certificate/UC-0LGLGAQG/'},\n  {'authority': 'deeplearning.ai',\n   'name': 'Neural Networks and Deep Learning',\n   'timePeriod': {'startDate': {'month': 8, 'year': 2018}},\n   'licenseNumber': 'QV5HD2WA36M8',\n   'company': {'objectUrn': 'urn:li:company:18246783',\n    'entityUrn': 'urn:li:fs_miniCompany:18246783',\n    'name': 'DeepLearning.AI',\n    'showcase': False,\n    'active': True,\n    'logo': {'com.linkedin.common.VectorImage': {'artifacts': [{'width': 200,\n        'fileIdentifyingUrlPathSegment': '200_200/company-logo_200_200/0/1630672537710/deeplearningai_logo?e=1733356800&v=beta&t=Th9Je1mkoFY-7lLpBbr1G6_uKh3jQkZYvjWCzFOgWxA',\n        'expiresAt': 1733356800000,\n        'height': 200},\n       {'width': 100,\n        'fileIdentifyingUrlPathSegment': '100_100/company-logo_100_100/0/1630672537710/deeplearningai_logo?e=1733356800&v=beta&t=q-yCsrFlZ0l9GGWh-DiwKq-5D2JbMfJIqem_zNXPqTQ',\n        'expiresAt': 1733356800000,\n        'height': 100},\n       {'width': 400,\n        'fileIdentifyingUrlPathSegment': '400_400/company-logo_400_400/0/1630672537710/deeplearningai_logo?e=1733356800&v=beta&t=bEg91H4fB4rP1bNLRAJGtGt6ZmwjBGH5pl2owmsk_ak',\n        'expiresAt': 1733356800000,\n        'height': 400}],\n      'rootUrl': 'https://media.licdn.com/dms/image/v2/C560BAQEHKffoI8RwIQ/company-logo_'}},\n    'universalName': 'deeplearningai',\n    'dashCompanyUrn': 'urn:li:fsd_company:18246783',\n    'trackingId': 'pFEZQLzZR+KwAGAcMkSpdA=='},\n   'displaySource': 'coursera.org',\n   'companyUrn': 'urn:li:fs_miniCompany:18246783',\n   'url': 'https://www.coursera.org/account/accomplishments/verify/QV5HD2WA36M8'},\n  {'authority': 'Coursera',\n   'name': 'How Google does Machine Learning',\n   'timePeriod': {'startDate': {'month': 6, 'year': 2019}},\n   'licenseNumber': 'JNDVDFRNKEZJ',\n   'company': {'objectUrn': 'urn:li:company:2453129',\n    'entityUrn': 'urn:li:fs_miniCompany:2453129',\n    'name': 'Coursera',\n    'showcase': False,\n    'active': True,\n    'logo': {'com.linkedin.common.VectorImage': {'artifacts': [{'width': 200,\n        'fileIdentifyingUrlPathSegment': '200_200/company-logo_200_200/0/1630530042036/coursera_logo?e=1733356800&v=beta&t=5lXfcFaWtU-crChR-doKJK3FJvUNEYlmARku2EJ8BzE',\n        'expiresAt': 1733356800000,\n        'height': 200},\n       {'width': 100,\n        'fileIdentifyingUrlPathSegment': '100_100/company-logo_100_100/0/1630530042036/coursera_logo?e=1733356800&v=beta&t=BrtddTxnc1JhbjAbuI1UpjxPW93RMZlJSri5cxc90P8',\n        'expiresAt': 1733356800000,\n        'height': 100},\n       {'width': 400,\n        'fileIdentifyingUrlPathSegment': '400_400/company-logo_400_400/0/1630530042036/coursera_logo?e=1733356800&v=beta&t=1sVfieBTNH6z4VSlAyfnzFg5Oz9TFNAt8H72UFf4Tg0',\n        'expiresAt': 1733356800000,\n        'height': 400}],\n      'rootUrl': 'https://media.licdn.com/dms/image/v2/C4D0BAQGexnfBxeEG-g/company-logo_'}},\n    'universalName': 'coursera',\n    'dashCompanyUrn': 'urn:li:fsd_company:2453129',\n    'trackingId': 'v3rSHMw0SCm/Z41tRqqTPw=='},\n   'displaySource': 'coursera.org',\n   'companyUrn': 'urn:li:fs_miniCompany:2453129',\n   'url': 'https://www.coursera.org/account/accomplishments/verify/JNDVDFRNKEZJ'},\n  {'authority': 'Coursera',\n   'name': 'SQL for Data Science - UC Davis',\n   'timePeriod': {'startDate': {'month': 6, 'year': 2019}},\n   'licenseNumber': 'MFTHBDZEVDHG',\n   'company': {'objectUrn': 'urn:li:company:2453129',\n    'entityUrn': 'urn:li:fs_miniCompany:2453129',\n    'name': 'Coursera',\n    'showcase': False,\n    'active': True,\n    'logo': {'com.linkedin.common.VectorImage': {'artifacts': [{'width': 200,\n        'fileIdentifyingUrlPathSegment': '200_200/company-logo_200_200/0/1630530042036/coursera_logo?e=1733356800&v=beta&t=5lXfcFaWtU-crChR-doKJK3FJvUNEYlmARku2EJ8BzE',\n        'expiresAt': 1733356800000,\n        'height': 200},\n       {'width': 100,\n        'fileIdentifyingUrlPathSegment': '100_100/company-logo_100_100/0/1630530042036/coursera_logo?e=1733356800&v=beta&t=BrtddTxnc1JhbjAbuI1UpjxPW93RMZlJSri5cxc90P8',\n        'expiresAt': 1733356800000,\n        'height': 100},\n       {'width': 400,\n        'fileIdentifyingUrlPathSegment': '400_400/company-logo_400_400/0/1630530042036/coursera_logo?e=1733356800&v=beta&t=1sVfieBTNH6z4VSlAyfnzFg5Oz9TFNAt8H72UFf4Tg0',\n        'expiresAt': 1733356800000,\n        'height': 400}],\n      'rootUrl': 'https://media.licdn.com/dms/image/v2/C4D0BAQGexnfBxeEG-g/company-logo_'}},\n    'universalName': 'coursera',\n    'dashCompanyUrn': 'urn:li:fsd_company:2453129',\n    'trackingId': '+4bZ7rtwQiSeWpVEK/RGRQ=='},\n   'displaySource': 'coursera.org',\n   'companyUrn': 'urn:li:fs_miniCompany:2453129',\n   'url': 'https://www.coursera.org/account/accomplishments/verify/MFTHBDZEVDHG'},\n  {'authority': 'fast.ai',\n   'name': 'Intro to Machine Learning',\n   'timePeriod': {'startDate': {'month': 9, 'year': 2019}},\n   'company': {'objectUrn': 'urn:li:company:18773348',\n    'entityUrn': 'urn:li:fs_miniCompany:18773348',\n    'name': 'fast.ai',\n    'showcase': False,\n    'active': True,\n    'logo': {'com.linkedin.common.VectorImage': {'artifacts': [{'width': 200,\n        'fileIdentifyingUrlPathSegment': '200_200/company-logo_200_200/0/1631396880790/fast_ai_logo?e=1733356800&v=beta&t=AeMiCuCoRowh_wwzGCYJxEp6GQQJgbFRFc7f2bmZlBM',\n        'expiresAt': 1733356800000,\n        'height': 200},\n       {'width': 100,\n        'fileIdentifyingUrlPathSegment': '100_100/company-logo_100_100/0/1631396880790/fast_ai_logo?e=1733356800&v=beta&t=QN0PVGcVhUG6hsx0tkUUTzWGD180moo01-CmOjUYNfU',\n        'expiresAt': 1733356800000,\n        'height': 100},\n       {'width': 400,\n        'fileIdentifyingUrlPathSegment': '400_400/company-logo_400_400/0/1631396880790/fast_ai_logo?e=1733356800&v=beta&t=7heSSmiu9LdcibPbIqrGbcSx-_aKqhPIy-3PbVHGqTw',\n        'expiresAt': 1733356800000,\n        'height': 400}],\n      'rootUrl': 'https://media.licdn.com/dms/image/v2/C560BAQFeG3Xb3YVI_Q/company-logo_'}},\n    'universalName': 'fast-ai',\n    'dashCompanyUrn': 'urn:li:fsd_company:18773348',\n    'trackingId': 'H5dzCtoZSk+Zt2Dh3pgf5A=='},\n   'companyUrn': 'urn:li:fs_miniCompany:18773348'},\n  {'authority': 'deeplearning.ai',\n   'name': 'Introduction to TensorFlow for Artificial Intelligence, Machine Learning, and Deep Learning',\n   'timePeriod': {'startDate': {'month': 10, 'year': 2019}},\n   'licenseNumber': 'EQ7CKAATQ8CP',\n   'company': {'objectUrn': 'urn:li:company:18246783',\n    'entityUrn': 'urn:li:fs_miniCompany:18246783',\n    'name': 'DeepLearning.AI',\n    'showcase': False,\n    'active': True,\n    'logo': {'com.linkedin.common.VectorImage': {'artifacts': [{'width': 200,\n        'fileIdentifyingUrlPathSegment': '200_200/company-logo_200_200/0/1630672537710/deeplearningai_logo?e=1733356800&v=beta&t=Th9Je1mkoFY-7lLpBbr1G6_uKh3jQkZYvjWCzFOgWxA',\n        'expiresAt': 1733356800000,\n        'height': 200},\n       {'width': 100,\n        'fileIdentifyingUrlPathSegment': '100_100/company-logo_100_100/0/1630672537710/deeplearningai_logo?e=1733356800&v=beta&t=q-yCsrFlZ0l9GGWh-DiwKq-5D2JbMfJIqem_zNXPqTQ',\n        'expiresAt': 1733356800000,\n        'height': 100},\n       {'width': 400,\n        'fileIdentifyingUrlPathSegment': '400_400/company-logo_400_400/0/1630672537710/deeplearningai_logo?e=1733356800&v=beta&t=bEg91H4fB4rP1bNLRAJGtGt6ZmwjBGH5pl2owmsk_ak',\n        'expiresAt': 1733356800000,\n        'height': 400}],\n      'rootUrl': 'https://media.licdn.com/dms/image/v2/C560BAQEHKffoI8RwIQ/company-logo_'}},\n    'universalName': 'deeplearningai',\n    'dashCompanyUrn': 'urn:li:fsd_company:18246783',\n    'trackingId': '0Pb1YrNeQDy8NpTslnDoyg=='},\n   'displaySource': 'coursera.org',\n   'companyUrn': 'urn:li:fs_miniCompany:18246783',\n   'url': 'https://www.coursera.org/account/accomplishments/certificate/EQ7CKAATQ8CP'},\n  {'authority': 'Amazon Web Services (AWS)',\n   'name': 'Amazon Web Services Developer - Associate',\n   'timePeriod': {'endDate': {'month': 11, 'year': 2023},\n    'startDate': {'month': 11, 'year': 2020}},\n   'licenseNumber': '45417VXD2EQQ1Q9E',\n   'company': {'objectUrn': 'urn:li:company:2382910',\n    'entityUrn': 'urn:li:fs_miniCompany:2382910',\n    'name': 'Amazon Web Services (AWS)',\n    'showcase': False,\n    'active': True,\n    'logo': {'com.linkedin.common.VectorImage': {'artifacts': [{'width': 200,\n        'fileIdentifyingUrlPathSegment': '200_200/company-logo_200_200/0/1670264051233/amazon_web_services_logo?e=1733356800&v=beta&t=Cp3bEmPQA2sZlmF7VJK0O1eiR21KHa_4GLVfEsQC3d8',\n        'expiresAt': 1733356800000,\n        'height': 200},\n       {'width': 100,\n        'fileIdentifyingUrlPathSegment': '100_100/company-logo_100_100/0/1670264051233/amazon_web_services_logo?e=1733356800&v=beta&t=NXups4Yw_x1vO7SPZOmqBS2hHgydAHz0eebQK69y6yE',\n        'expiresAt': 1733356800000,\n        'height': 100},\n       {'width': 400,\n        'fileIdentifyingUrlPathSegment': '400_400/company-logo_400_400/0/1670264051233/amazon_web_services_logo?e=1733356800&v=beta&t=FneV2R8NSN3psAzV-TFbVYKXtS4JzUa8584jXZ8PLpE',\n        'expiresAt': 1733356800000,\n        'height': 400}],\n      'rootUrl': 'https://media.licdn.com/dms/image/v2/C560BAQER_QnUTXrPJw/company-logo_'}},\n    'universalName': 'amazon-web-services',\n    'dashCompanyUrn': 'urn:li:fsd_company:2382910',\n    'trackingId': 'KbrjmHKgR9qErrvKE51tNQ=='},\n   'displaySource': 'amazon.com',\n   'companyUrn': 'urn:li:fs_miniCompany:2382910',\n   'url': 'http://aws.amazon.com/verification'},\n  {'authority': 'NVIDIA',\n   'name': 'Accelerating End-to-End Data Science Workflows',\n   'timePeriod': {'startDate': {'month': 10, 'year': 2021}},\n   'licenseNumber': 'e7e73aeb310a4763a791adc0ce63a0fe',\n   'company': {'objectUrn': 'urn:li:company:3608',\n    'entityUrn': 'urn:li:fs_miniCompany:3608',\n    'name': 'NVIDIA',\n    'showcase': False,\n    'active': True,\n    'logo': {'com.linkedin.common.VectorImage': {'artifacts': [{'width': 200,\n        'fileIdentifyingUrlPathSegment': '200_200/company-logo_200_200/0/1724879902635/nvidia_logo?e=1733356800&v=beta&t=bXiP_I3jwl6raOWhArA4zjXENfMRr1lCfpH__2GU0_s',\n        'expiresAt': 1733356800000,\n        'height': 200},\n       {'width': 100,\n        'fileIdentifyingUrlPathSegment': '100_100/company-logo_100_100/0/1724879902635/nvidia_logo?e=1733356800&v=beta&t=WFu3KlnWAE5noLjeOs5PH5VnIJ3rZn6O5zGF9bv-jJI',\n        'expiresAt': 1733356800000,\n        'height': 100},\n       {'width': 400,\n        'fileIdentifyingUrlPathSegment': '400_400/company-logo_400_400/0/1724879902635/nvidia_logo?e=1733356800&v=beta&t=C7ALlc8ggsOyoVFWT63pxvb-sUh4Dl1B-GpiOY6lm0Q',\n        'expiresAt': 1733356800000,\n        'height': 400}],\n      'rootUrl': 'https://media.licdn.com/dms/image/v2/D560BAQH7YExLMK6L2Q/company-logo_'}},\n    'universalName': 'nvidia',\n    'dashCompanyUrn': 'urn:li:fsd_company:3608',\n    'trackingId': 'OvrPVpqAQqGZfwXgNVDFog=='},\n   'displaySource': 'nvidia.com',\n   'companyUrn': 'urn:li:fs_miniCompany:3608',\n   'url': 'https://courses.nvidia.com/certificates/e7e73aeb310a4763a791adc0ce63a0fe'}],\n 'volunteer': [],\n 'honors': [],\n 'projects': [],\n 'skills': [{'name': 'Python (Programming Language)'},\n  {'name': 'Machine Learning'},\n  {'name': 'Apache Spark'},\n  {'name': 'Amazon Web Services (AWS)'}],\n 'urn_id': 'ACoAAB4ySUYByTjvSejnwVuRS0C0Lc0WNQ6_mwY'}"
     },
     "execution_count": 81,
     "metadata": {},
     "output_type": "execute_result"
    }
   ],
   "source": [
    "# gesong2154\n",
    "profile_desired = fetch_linkedin_info()\n",
    "profile_desired"
   ],
   "metadata": {
    "collapsed": false,
    "ExecuteTime": {
     "end_time": "2024-09-01T22:53:46.779586Z",
     "start_time": "2024-09-01T22:53:39.653580Z"
    }
   },
   "id": "adcebc58b7c7e1fd",
   "execution_count": 81
  },
  {
   "cell_type": "code",
   "outputs": [],
   "source": [
    "# helper function \n",
    "def remove_dict_from_list(dict_list):\n",
    "    merged_dict = dict()\n",
    "    for i in dict_list:\n",
    "        merged_dict.update(i)\n",
    "        print(\"aaroh loves cock\")\n",
    "    return merged_dict"
   ],
   "metadata": {
    "collapsed": false,
    "ExecuteTime": {
     "end_time": "2024-09-10T18:56:39.088022Z",
     "start_time": "2024-09-10T18:56:39.069602Z"
    }
   },
   "id": "18c3b1a4a145b354",
   "execution_count": 1
  },
  {
   "cell_type": "code",
   "outputs": [],
   "source": [
    "def fetch_company_info(specific_info):\n",
    "    if isinstance(specific_info, dict):\n",
    "        if 'experience' in specific_info:\n",
    "            company_name = specific_info['experience']\n",
    "            \n",
    "            if isinstance(company_name, list):\n",
    "                for item in company_name:\n",
    "                    if isinstance(item, dict) and 'companyName' in item:\n",
    "                        return item['companyName']\n",
    "                    \n",
    "            elif isinstance(company_name, dict):\n",
    "                if 'companyName' in company_name:\n",
    "                    return company_name['companyName']\n",
    "            else:\n",
    "                print(\"DataType Invalid\")\n",
    "        else:\n",
    "            print(\"'experience' key not found\")\n",
    "    else:\n",
    "        print('DataType Invalid')\n",
    "    \n",
    "    return None  \n"
   ],
   "metadata": {
    "collapsed": false,
    "ExecuteTime": {
     "end_time": "2024-08-30T19:49:51.799277Z",
     "start_time": "2024-08-30T19:49:51.792622Z"
    }
   },
   "id": "3f19673bf351066a",
   "execution_count": 7
  },
  {
   "cell_type": "code",
   "outputs": [],
   "source": [
    "def fetch_school_name(specific_info):   \n",
    "    # inner helper method to retrive needed information\n",
    "    def dict_case(specific_info):\n",
    "        count = 0\n",
    "        school_name_col = None\n",
    "        for i in specific_info.keys():\n",
    "            if i == 'education':\n",
    "                count += 1\n",
    "                if count == 1: \n",
    "                    school_name = remove_dict_from_list(specific_info[i])\n",
    "                    for j in school_name.keys():\n",
    "                        if j == 'schoolName':\n",
    "                            school_name_col = school_name[j]\n",
    "        return school_name_col\n",
    "    \n",
    "    # handle each case\n",
    "    if isinstance(specific_info, dict):\n",
    "        school_name_col = dict_case(specific_info)\n",
    "    elif isinstance(specific_info, list):\n",
    "        merged_dict = remove_dict_from_list(specific_info)\n",
    "        school_name_col = dict_case(merged_dict)    \n",
    "    else:\n",
    "        print('Enter a valid data type!')\n",
    "        \n",
    "    return school_name_col"
   ],
   "metadata": {
    "collapsed": false,
    "ExecuteTime": {
     "end_time": "2024-09-01T22:52:50.627427Z",
     "start_time": "2024-09-01T22:52:50.618960Z"
    }
   },
   "id": "8bf2b3ac763176e9",
   "execution_count": 74
  },
  {
   "cell_type": "code",
   "outputs": [],
   "source": [
    "def fetch_position_info(specific_info):\n",
    "    def if_dict_sit(specific_info):\n",
    "        for i in specific_info.keys():\n",
    "            if i == 'experience':\n",
    "                pos_info = specific_info[i]\n",
    "                pos_info_dict = remove_dict_from_list(pos_info)\n",
    "                pos_name = pos_info_dict['title']\n",
    "        \n",
    "        return pos_name\n",
    "    if isinstance(specific_info, dict):\n",
    "        pos_name = if_dict_sit(specific_info)\n",
    "    elif isinstance(specific_info, list):\n",
    "        merged_dict = remove_dict_from_list(specific_info)\n",
    "        pos_name = if_dict_sit(merged_dict)\n",
    "         \n",
    "    return pos_name"
   ],
   "metadata": {
    "collapsed": false,
    "ExecuteTime": {
     "end_time": "2024-09-01T22:49:19.345761Z",
     "start_time": "2024-09-01T22:49:19.340070Z"
    }
   },
   "id": "b1b54107eaffb2d0",
   "execution_count": 64
  },
  {
   "cell_type": "code",
   "outputs": [],
   "source": [
    "def fetch_specific_linkedin_info(profile_desired):\n",
    "    # init output variable\n",
    "    info_desired_out = None\n",
    "    \n",
    "    # init info desired with a user input\n",
    "    info_desired = input(\"From these options: [...] what information do you want to fetch: \")\n",
    "    \n",
    "  \n",
    "    # case based on the type of information requested\n",
    "    if info_desired == 'education':\n",
    "        info_desired_out = fetch_school_name(profile_desired)\n",
    "    elif info_desired == 'experience':\n",
    "        info_desired_out = fetch_company_info(profile_desired)\n",
    "    elif info_desired == 'Position':\n",
    "        info_desired_out = fetch_position_info(profile_desired)\n",
    "    else:\n",
    "        print('Info type not recognized, try again!')\n",
    "\n",
    "    \n",
    "    return info_desired_out\n"
   ],
   "metadata": {
    "collapsed": false,
    "ExecuteTime": {
     "end_time": "2024-09-01T22:53:55.246337Z",
     "start_time": "2024-09-01T22:53:55.241896Z"
    }
   },
   "id": "7db1a6da7d882ef1",
   "execution_count": 82
  },
  {
   "cell_type": "code",
   "outputs": [
    {
     "name": "stdout",
     "output_type": "stream",
     "text": [
      "Narsee Monjee Institute of Management Studies\n"
     ]
    }
   ],
   "source": [
    "info_desired_out = fetch_specific_linkedin_info(profile_desired)\n",
    "print(info_desired_out)"
   ],
   "metadata": {
    "collapsed": false,
    "ExecuteTime": {
     "end_time": "2024-09-01T22:54:01.239584Z",
     "start_time": "2024-09-01T22:53:55.633673Z"
    }
   },
   "id": "7d30cad029e21b17",
   "execution_count": 83
  },
  {
   "cell_type": "code",
   "outputs": [],
   "source": [],
   "metadata": {
    "collapsed": false,
    "ExecuteTime": {
     "end_time": "2024-08-12T21:59:53.220622Z",
     "start_time": "2024-08-12T21:59:53.210885Z"
    }
   },
   "id": "283c8210c2f7e02f",
   "execution_count": 179
  },
  {
   "cell_type": "code",
   "outputs": [],
   "source": [],
   "metadata": {
    "collapsed": false
   },
   "id": "f52c4f1b83a9a82f"
  }
 ],
 "metadata": {
  "kernelspec": {
   "display_name": "Python 3",
   "language": "python",
   "name": "python3"
  },
  "language_info": {
   "codemirror_mode": {
    "name": "ipython",
    "version": 2
   },
   "file_extension": ".py",
   "mimetype": "text/x-python",
   "name": "python",
   "nbconvert_exporter": "python",
   "pygments_lexer": "ipython2",
   "version": "2.7.6"
  }
 },
 "nbformat": 4,
 "nbformat_minor": 5
}
